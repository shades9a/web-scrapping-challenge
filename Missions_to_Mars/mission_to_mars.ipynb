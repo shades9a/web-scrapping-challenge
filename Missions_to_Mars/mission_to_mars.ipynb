{
 "cells": [
  {
   "cell_type": "code",
   "execution_count": 42,
   "metadata": {},
   "outputs": [],
   "source": [
    "from splinter import Browser\n",
    "from bs4 import BeautifulSoup as bs\n",
    "import requests\n",
    "import pandas as pd\n",
    "soup = bs(page.content, 'html.parser')"
   ]
  },
  {
   "cell_type": "code",
   "execution_count": 43,
   "metadata": {},
   "outputs": [],
   "source": [
    "def init_browser():\n",
    "    executable_path = {\"executable_path\": \"C:\\\\Program Files\\\\chromdriver_win32\\\\chromedriver.exe\"}\n",
    "    return Browser(\"chrome\", **executable_path, headless=False)"
   ]
  },
  {
   "cell_type": "code",
   "execution_count": 44,
   "metadata": {},
   "outputs": [
    {
     "data": {
      "text/plain": [
       "<Response [200]>"
      ]
     },
     "execution_count": 44,
     "metadata": {},
     "output_type": "execute_result"
    }
   ],
   "source": [
    "import requests\n",
    "page = requests.get(\"https://mars.nasa.gov/news/\")\n",
    "page"
   ]
  },
  {
   "cell_type": "code",
   "execution_count": 79,
   "metadata": {},
   "outputs": [
    {
     "name": "stdout",
     "output_type": "stream",
     "text": [
      "<div class=\"slide\">\n",
      "<div class=\"image_and_description_container\">\n",
      "<a href=\"/news/8963/nasas-perseverance-rover-begins-its-first-science-campaign-on-mars/\">\n",
      "<div class=\"rollover_description\">\n",
      "<div class=\"rollover_description_inner\">\n",
      "The six-wheeled scientist is heading south to explore Jezero Crater’s lakebed in search of signs of ancient microbial life.\n",
      "</div>\n",
      "<div class=\"overlay_arrow\">\n",
      "<img alt=\"More\" src=\"/assets/overlay-arrow.png\"/>\n",
      "</div>\n",
      "</div>\n",
      "<img alt=\"NASA's Perseverance Rover Begins Its First Science Campaign on Mars\" class=\"img-lazy\" data-lazy=\"/system/news_items/list_view_images/8963_PIA24663-320x240.jpg\" src=\"/assets/loading_320x240.png\"/>\n",
      "</a>\n",
      "</div>\n",
      "<div class=\"content_title\">\n",
      "<a href=\"/news/8963/nasas-perseverance-rover-begins-its-first-science-campaign-on-mars/\">\n",
      "NASA's Perseverance Rover Begins Its First Science Campaign on Mars\n",
      "</a>\n",
      "</div>\n",
      "</div> <div class=\"slide\">\n",
      "<div class=\"image_and_description_container\">\n",
      "<a href=\"/news/8942/nasas-ingenuity-mars-helicopter-completes-first-one-way-trip/\">\n",
      "<div class=\"rollover_description\">\n",
      "<div class=\"rollover_description_inner\">\n",
      "The Red Planet rotorcraft headed south in support of furthering research into the potential use of aerial scouts on Mars in the future.\n",
      "</div>\n",
      "<div class=\"overlay_arrow\">\n",
      "<img alt=\"More\" src=\"/assets/overlay-arrow.png\"/>\n",
      "</div>\n",
      "</div>\n",
      "<img alt=\"NASA's Ingenuity Mars Helicopter Completes First One-Way Trip  \" class=\"img-lazy\" data-lazy=\"/system/news_items/list_view_images/8942_PIA24647-320x240.jpg\" src=\"/assets/loading_320x240.png\"/>\n",
      "</a>\n",
      "</div>\n",
      "<div class=\"content_title\">\n",
      "<a href=\"/news/8942/nasas-ingenuity-mars-helicopter-completes-first-one-way-trip/\">\n",
      "NASA's Ingenuity Mars Helicopter Completes First One-Way Trip  \n",
      "</a>\n",
      "</div>\n",
      "</div> <div class=\"slide\">\n",
      " <div class=\"image_and_description_container\">\n",
      "  <a href=\"/news/8936/nasas-ingenuity-helicopter-to-begin-new-demonstration-phase/\">\n",
      "   <div class=\"rollover_description\">\n",
      "    <div class=\"rollover_description_inner\">\n",
      "     The Red Planet rotorcraft will shift focus from proving flight is possible on Mars to demonstrating flight operations that future aerial craft could utilize.\n",
      "    </div>\n",
      "    <div class=\"overlay_arrow\">\n",
      "     <img alt=\"More\" src=\"/assets/overlay-arrow.png\"/>\n",
      "    </div>\n",
      "   </div>\n",
      "   <img alt=\"NASA's Ingenuity Helicopter to Begin New Demonstration Phase\" class=\"img-lazy\" data-lazy=\"/system/news_items/list_view_images/8936_First_selfie_animation_320.jpg\" src=\"/assets/loading_320x240.png\"/>\n",
      "  </a>\n",
      " </div>\n",
      " <div class=\"content_title\">\n",
      "  <a href=\"/news/8936/nasas-ingenuity-helicopter-to-begin-new-demonstration-phase/\">\n",
      "   NASA's Ingenuity Helicopter to Begin New Demonstration Phase\n",
      "  </a>\n",
      " </div>\n",
      "</div>\n",
      "\n"
     ]
    }
   ],
   "source": [
    "marspage = soup.find(id=\"page\")\n",
    "marsslide = marspage.find_all(class_=\"slide\")\n",
    "recentmars1 = marsslide[0]\n",
    "recentmars2 = marsslide[1]\n",
    "recentmars3 = marsslide[2]\n",
    "print(recentmars1,recentmars2,recentmars3.prettify())"
   ]
  },
  {
   "cell_type": "code",
   "execution_count": 101,
   "metadata": {},
   "outputs": [
    {
     "name": "stdout",
     "output_type": "stream",
     "text": [
      "\n",
      "\n",
      "NASA's Perseverance Rover Begins Its First Science Campaign on Mars\n",
      "\n",
      " \n",
      "The six-wheeled scientist is heading south to explore Jezero Crater’s lakebed in search of signs of ancient microbial life.\n",
      "\n",
      "\n",
      "\n",
      "NASA's Ingenuity Mars Helicopter Completes First One-Way Trip  \n",
      "\n",
      " \n",
      "The Red Planet rotorcraft headed south in support of furthering research into the potential use of aerial scouts on Mars in the future.\n",
      "\n",
      "\n",
      "\n",
      "NASA's Ingenuity Helicopter to Begin New Demonstration Phase\n",
      "\n",
      " \n",
      "The Red Planet rotorcraft will shift focus from proving flight is possible on Mars to demonstrating flight operations that future aerial craft could utilize.\n",
      "\n"
     ]
    }
   ],
   "source": [
    "title1 = recentmars1.find(class_=\"content_title\").get_text()\n",
    "para1 = recentmars1.find(class_=\"rollover_description_inner\").get_text()\n",
    "title2 = recentmars2.find(class_=\"content_title\").get_text()\n",
    "para2 = recentmars2.find(class_=\"rollover_description_inner\").get_text()\n",
    "title3 = recentmars3.find(class_=\"content_title\").get_text()\n",
    "para3 = recentmars3.find(class_=\"rollover_description_inner\").get_text()\n",
    "print (title1,para1)\n",
    "print (title2,para2)\n",
    "print (title3,para3)"
   ]
  },
  {
   "cell_type": "code",
   "execution_count": null,
   "metadata": {},
   "outputs": [],
   "source": [
    "\"article_teaser_body\""
   ]
  }
 ],
 "metadata": {
  "kernelspec": {
   "display_name": "Python 3",
   "language": "python",
   "name": "python3"
  },
  "language_info": {
   "codemirror_mode": {
    "name": "ipython",
    "version": 3
   },
   "file_extension": ".py",
   "mimetype": "text/x-python",
   "name": "python",
   "nbconvert_exporter": "python",
   "pygments_lexer": "ipython3",
   "version": "3.8.5"
  }
 },
 "nbformat": 4,
 "nbformat_minor": 4
}
